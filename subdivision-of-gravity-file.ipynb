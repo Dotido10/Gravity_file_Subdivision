{
 "cells": [
  {
   "cell_type": "code",
   "execution_count": 1,
   "id": "1c24ec32",
   "metadata": {
    "execution": {
     "iopub.execute_input": "2024-08-07T16:41:22.166100Z",
     "iopub.status.busy": "2024-08-07T16:41:22.165651Z",
     "iopub.status.idle": "2024-08-07T16:45:03.340590Z",
     "shell.execute_reply": "2024-08-07T16:45:03.339275Z"
    },
    "papermill": {
     "duration": 221.185319,
     "end_time": "2024-08-07T16:45:03.343907",
     "exception": false,
     "start_time": "2024-08-07T16:41:22.158588",
     "status": "completed"
    },
    "tags": []
   },
   "outputs": [],
   "source": [
    "# Author:Renaldo Sauveur\n",
    "# Date:16/06/2024\n",
    "# Sript to read and modify gravi file (format TSF)\n",
    "# From the input file we create 2 new files (gravi_ and param_)\n",
    "# File gravi_ content gravi measurement with 0.1 second step time\n",
    "# File param_ content parameters information (tilt,temparature,tide correction,status)\n",
    "\n",
    "# importing modules\n",
    "import pandas as pd\n",
    "import os\n",
    "from datetime import datetime\n",
    "import shutil\n",
    "import glob\n",
    "from pathlib import Path\n",
    "\n",
    "\n",
    "## List of input file\n",
    "#list = os.listdir(os.getcwd()+\"/Input\")\n",
    "list = os.listdir('/kaggle/input/gravifile/Input')\n",
    "## Columns name definition\n",
    "name = ['year', 'month', 'day', 'hour', 'minute', 'second','G0','G1','G2','G3','G4','G5','G6','G7','G8','G9','X','Y','Temp','Tide correction','Status']\n",
    "\n",
    "## Loop over input file\n",
    "for k in range(len(list)):    \n",
    "    #read list of input file\n",
    "    df = pd.read_csv('/kaggle/input/gravifile/Input/'+list[k], skiprows = 42, sep=None, engine=\"python\", names=name, header=None )\n",
    "  \n",
    "    #Date columns plus 10 first columns from TSF file\n",
    "    gravileft = df[['year', 'month', 'day', 'hour', 'minute', 'second','G0','G1','G2','G3','G4','G5','G6','G7','G8','G9']]\n",
    "  \n",
    "    #Date columns plus 5 last columns from TSF file\n",
    "    graviright = df[['year', 'month', 'day', 'hour', 'minute', 'second','X','Y','Temp','Tide correction','Status']]\n",
    "     \n",
    "\n",
    "    ## DataFrame df_datetime creation with datetimes columns only\n",
    "    #Variables initialization \n",
    "    ye = []\n",
    "    mo = []\n",
    "    da = []\n",
    "    ho = []\n",
    "    mi = []\n",
    "    se = []    \n",
    "    #Loop to create datetimes columns in order to consider 0.1 second step time\n",
    "    for index, row in gravileft.iterrows():    \n",
    "        x = [row['year'], row['month'], row['day'], row['hour'], row['minute'], row['second']]\n",
    "       \n",
    "        for i in range(10): # 10 is the number of fraction of second\n",
    "            ye.append(row['year'])\n",
    "            mo.append(row['month'])\n",
    "            da.append(row['day'])\n",
    "            ho.append(row['hour'])\n",
    "            mi.append(row['minute'])\n",
    "            se.append(row['second'])         \n",
    "   \n",
    "    \n",
    "    df_datetime = pd.DataFrame((zip(ye, mo, da, ho, mi, se)), columns = ['A','B','C','D','E','F'])\n",
    "    \n",
    "    \n",
    "    ### DataFrame df_gravi creation where column valueG is 0.1 second step time    \n",
    "    #Fraction of second list\n",
    "    Fracs = ['000', '100', '200', '300', '400', '500', '600', '700', '800', '900']\n",
    "        \n",
    "    #Loop to create list of fraction of second\n",
    "    ListFracs = []     # list initialization\n",
    "    for j in range(df.shape[0]):\n",
    "        for i in range(len(Fracs)):\n",
    "            ListFracs.append(Fracs[i])\n",
    "\n",
    "    columnG = ['G0','G1','G2','G3','G4','G5','G6','G7','G8','G9']\n",
    "    valueG = []\n",
    "    #for index, row in gravileft.iterrows(): \n",
    "    for index, row in gravileft.iterrows():  \n",
    "        for i in range(len(columnG)):        \n",
    "            valueG.append(row[columnG[i]])             \n",
    " \n",
    "    \n",
    "    df_gravi = pd.DataFrame(zip(ListFracs, valueG), columns = ['G','H'])\n",
    "    \n",
    "    \n",
    "\n",
    "    ## Join dataframe df_datetime and df_gravi\n",
    "    join_DF = df_datetime.join(df_gravi)    \n",
    "    \n",
    "    \n",
    "    ## Writting  data frame to text file  \n",
    "    join_DF.to_csv(\"gravi_\"+list[k], index=False, sep='\\t', header=False)\n",
    "    \n",
    "    graviright.to_csv(\"param_\"+list[k], index=False, sep='\\t', header=False)\n",
    "    \n",
    "    \n",
    "    ### Writting header in text file\n",
    "    \n",
    "    ## Header for gravi_ file\n",
    "    line = [\"[TSF-file] v01.0\",\"[UNDETVAL]\",\"-999999.000\",\"[TIMEFORMAT]\",\"DATETIMEFRAC\",\"[INCREMENT]\",\"0.10000\",\"[CHANNELS]\",\n",
    "       \"PORT-AU-PRINCE:SCINTREX CG6-270:Gravity\",\"[UNITS]\",\"ADU\",\"[COMMENT]\",\"[COUNTINFO]\",\"864001\",\"[DATA]\"]\n",
    "\n",
    "    with open(\"gravi_\"+list[k], 'r+') as file: #Open the file in read mode\n",
    "        file_data = file.read()\n",
    "        ##Seek to  particular position.\n",
    "        ##First argument indicates the reference position.  \n",
    "        ##0 - beginning, 1-current, 2-end \n",
    "        file.seek(0,0)\n",
    "        for i in range(len(line)):        \n",
    "            file.write(line[i] + '\\n') \n",
    "            file.seek(0,1)\n",
    "        file.seek(0,1) \n",
    "        file.write(file_data)\n",
    "        \n",
    "        \n",
    "    ## Header for param_ file\n",
    "    line = [\"[TSF-file] v01.0\",\"[UNDETVAL]\",\"-999999.000\",\"[TIMEFORMAT]\",\"DATETIME\",\"[INCREMENT]\",\"1\",\"[CHANNELS]\",\n",
    "       \"PORT-AU-PRINCE:SCINTREX CG6-270:TILT X\",\"PORT-AU-PRINCE:SCINTREX CG6-270:TILT Y\",\"PORT-AU-PRINCE:SCINTREX CG6-270:Meter Temp\",\n",
    "        \"PORT-AU-PRINCE:SCINTREX CG6-270:Tide Correction\",\"PORT-AU-PRINCE:SCINTREX CG6-270:Status\",\n",
    "        \"[UNITS]\",\"ADU\",\"ADU\",\"ADU\",\"mGals\",\"Byte\",\"[COMMENT]\",\"[COUNTINFO]\",\"864001\",\"[DATA]\"]\n",
    "\n",
    "    with open(\"param_\"+list[k], 'r+') as file: \n",
    "        file_data = file.read()  \n",
    "        file.seek(0,0)\n",
    "        for i in range(len(line)):        \n",
    "            file.write(line[i] + '\\n') \n",
    "            file.seek(0,1)\n",
    "        file.seek(0,1) \n",
    "        file.write(file_data)\n",
    "  \n",
    "\n",
    "   \n",
    "    "
   ]
  },
  {
   "cell_type": "code",
   "execution_count": 2,
   "id": "07e402d2",
   "metadata": {
    "execution": {
     "iopub.execute_input": "2024-08-07T16:45:03.353201Z",
     "iopub.status.busy": "2024-08-07T16:45:03.352811Z",
     "iopub.status.idle": "2024-08-07T16:45:03.359110Z",
     "shell.execute_reply": "2024-08-07T16:45:03.358086Z"
    },
    "papermill": {
     "duration": 0.013722,
     "end_time": "2024-08-07T16:45:03.361594",
     "exception": false,
     "start_time": "2024-08-07T16:45:03.347872",
     "status": "completed"
    },
    "tags": []
   },
   "outputs": [],
   "source": [
    "# Creation of Param and Gravi directories\n",
    "Path('/kaggle/working/Param').mkdir(parents=True, exist_ok=True)\n",
    "Path('/kaggle/working/Gravi').mkdir(parents=True, exist_ok=True)"
   ]
  },
  {
   "cell_type": "code",
   "execution_count": 3,
   "id": "0008d920",
   "metadata": {
    "execution": {
     "iopub.execute_input": "2024-08-07T16:45:03.370057Z",
     "iopub.status.busy": "2024-08-07T16:45:03.369691Z",
     "iopub.status.idle": "2024-08-07T16:45:03.382371Z",
     "shell.execute_reply": "2024-08-07T16:45:03.381300Z"
    },
    "papermill": {
     "duration": 0.020054,
     "end_time": "2024-08-07T16:45:03.384994",
     "exception": false,
     "start_time": "2024-08-07T16:45:03.364940",
     "status": "completed"
    },
    "tags": []
   },
   "outputs": [
    {
     "data": {
      "text/plain": [
       "['/kaggle/working/Gravi/gravi_0270_20240229.tsf',\n",
       " '/kaggle/working/Gravi/gravi_0270_20240302.tsf',\n",
       " '/kaggle/working/Gravi/gravi_0270_20240301.tsf']"
      ]
     },
     "execution_count": 3,
     "metadata": {},
     "output_type": "execute_result"
    }
   ],
   "source": [
    "# Move param_ and gravi_  files to their respective folder\n",
    "param_file = glob.glob(os.getcwd()+\"/param_*\")\n",
    "[shutil.move(param_file[i], os.getcwd()+\"/Param/\") for i in range(len(param_file))]\n",
    "    \n",
    "gravi_file = glob.glob(os.getcwd()+\"/gravi_*\")    \n",
    "[shutil.move(gravi_file[i], os.getcwd()+\"/Gravi/\")  for i in range(len(gravi_file))]  \n"
   ]
  },
  {
   "cell_type": "code",
   "execution_count": 4,
   "id": "ca33b2b4",
   "metadata": {
    "execution": {
     "iopub.execute_input": "2024-08-07T16:45:03.393500Z",
     "iopub.status.busy": "2024-08-07T16:45:03.393104Z",
     "iopub.status.idle": "2024-08-07T16:45:03.402032Z",
     "shell.execute_reply": "2024-08-07T16:45:03.400920Z"
    },
    "papermill": {
     "duration": 0.015963,
     "end_time": "2024-08-07T16:45:03.404520",
     "exception": false,
     "start_time": "2024-08-07T16:45:03.388557",
     "status": "completed"
    },
    "tags": []
   },
   "outputs": [
    {
     "data": {
      "text/plain": [
       "['0270_20240229.tsf', '0270_20240302.tsf', '0270_20240301.tsf']"
      ]
     },
     "execution_count": 4,
     "metadata": {},
     "output_type": "execute_result"
    }
   ],
   "source": [
    "# list of file in the input folder\n",
    "os.listdir('/kaggle/input/gravifile/Input')"
   ]
  },
  {
   "cell_type": "code",
   "execution_count": 5,
   "id": "52b1a1ff",
   "metadata": {
    "execution": {
     "iopub.execute_input": "2024-08-07T16:45:03.414397Z",
     "iopub.status.busy": "2024-08-07T16:45:03.413043Z",
     "iopub.status.idle": "2024-08-07T16:45:03.420984Z",
     "shell.execute_reply": "2024-08-07T16:45:03.419868Z"
    },
    "papermill": {
     "duration": 0.01509,
     "end_time": "2024-08-07T16:45:03.423467",
     "exception": false,
     "start_time": "2024-08-07T16:45:03.408377",
     "status": "completed"
    },
    "tags": []
   },
   "outputs": [
    {
     "data": {
      "text/plain": [
       "['gravi_0270_20240229.tsf',\n",
       " 'gravi_0270_20240302.tsf',\n",
       " 'gravi_0270_20240301.tsf']"
      ]
     },
     "execution_count": 5,
     "metadata": {},
     "output_type": "execute_result"
    }
   ],
   "source": [
    "# list of file in the Gravi folder\n",
    "os.listdir(os.getcwd()+'/Gravi')"
   ]
  },
  {
   "cell_type": "code",
   "execution_count": 6,
   "id": "ad9ecb10",
   "metadata": {
    "execution": {
     "iopub.execute_input": "2024-08-07T16:45:03.433235Z",
     "iopub.status.busy": "2024-08-07T16:45:03.432379Z",
     "iopub.status.idle": "2024-08-07T16:45:03.440197Z",
     "shell.execute_reply": "2024-08-07T16:45:03.439070Z"
    },
    "papermill": {
     "duration": 0.015368,
     "end_time": "2024-08-07T16:45:03.442713",
     "exception": false,
     "start_time": "2024-08-07T16:45:03.427345",
     "status": "completed"
    },
    "tags": []
   },
   "outputs": [
    {
     "data": {
      "text/plain": [
       "['param_0270_20240302.tsf',\n",
       " 'param_0270_20240301.tsf',\n",
       " 'param_0270_20240229.tsf']"
      ]
     },
     "execution_count": 6,
     "metadata": {},
     "output_type": "execute_result"
    }
   ],
   "source": [
    "# list of file in the Param folder\n",
    "os.listdir(os.getcwd()+'/Param')"
   ]
  }
 ],
 "metadata": {
  "kaggle": {
   "accelerator": "none",
   "dataSources": [
    {
     "datasetId": 5459414,
     "sourceId": 9054132,
     "sourceType": "datasetVersion"
    }
   ],
   "dockerImageVersionId": 30746,
   "isGpuEnabled": false,
   "isInternetEnabled": false,
   "language": "python",
   "sourceType": "notebook"
  },
  "kernelspec": {
   "display_name": "Python 3",
   "language": "python",
   "name": "python3"
  },
  "language_info": {
   "codemirror_mode": {
    "name": "ipython",
    "version": 3
   },
   "file_extension": ".py",
   "mimetype": "text/x-python",
   "name": "python",
   "nbconvert_exporter": "python",
   "pygments_lexer": "ipython3",
   "version": "3.10.13"
  },
  "papermill": {
   "default_parameters": {},
   "duration": 225.245588,
   "end_time": "2024-08-07T16:45:04.370322",
   "environment_variables": {},
   "exception": null,
   "input_path": "__notebook__.ipynb",
   "output_path": "__notebook__.ipynb",
   "parameters": {},
   "start_time": "2024-08-07T16:41:19.124734",
   "version": "2.5.0"
  }
 },
 "nbformat": 4,
 "nbformat_minor": 5
}
